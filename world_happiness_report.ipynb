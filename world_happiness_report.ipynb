{
  "nbformat": 4,
  "nbformat_minor": 0,
  "metadata": {
    "colab": {
      "private_outputs": true,
      "provenance": []
    },
    "kernelspec": {
      "name": "python3",
      "display_name": "Python 3"
    },
    "language_info": {
      "name": "python"
    },
    "accelerator": "TPU"
  },
  "cells": [
    {
      "cell_type": "code",
      "source": [
        "!pip install kaggle\n",
        "from google.colab import files\n",
        "\n",
        "# Upload your Kaggle API token (kaggle.json)\n",
        "uploaded = files.upload()\n"
      ],
      "metadata": {
        "id": "6PQV3SoB8ZKx"
      },
      "execution_count": null,
      "outputs": []
    },
    {
      "cell_type": "code",
      "source": [
        "import os\n",
        "\n",
        "# Create a directory for the Kaggle API key\n",
        "!mkdir -p ~/.kaggle\n",
        "!cp kaggle.json ~/.kaggle/\n",
        "!chmod 600 ~/.kaggle/kaggle.json\n"
      ],
      "metadata": {
        "id": "jYefC43-9HsS"
      },
      "execution_count": null,
      "outputs": []
    },
    {
      "cell_type": "code",
      "source": [
        "import json\n",
        "\n",
        "# Read the content of kaggle.json\n",
        "with open('kaggle.json') as json_file:\n",
        "    kaggle_data = json.load(json_file)\n"
      ],
      "metadata": {
        "id": "_s5ZkAxw9N3X"
      },
      "execution_count": null,
      "outputs": []
    },
    {
      "cell_type": "code",
      "source": [
        "# Access your Kaggle username\n",
        "kaggle_username = kaggle_data['username']\n",
        "\n",
        "# Print your Kaggle username\n",
        "print(\"Your Kaggle username is:\", kaggle_username)\n"
      ],
      "metadata": {
        "id": "fLXJH14j9ggL"
      },
      "execution_count": null,
      "outputs": []
    },
    {
      "cell_type": "code",
      "source": [
        "!kaggle datasets download -d mathurinache/world-happiness-report"
      ],
      "metadata": {
        "id": "7CwWGh__9hjY"
      },
      "execution_count": null,
      "outputs": []
    },
    {
      "cell_type": "code",
      "source": [
        "# Create a folder for the dataset\n",
        "!mkdir world-happiness-report\n",
        "\n",
        "# Move the downloaded ZIP file to the folder\n",
        "!mv world-happiness-report.zip world-happiness-report/\n",
        "\n",
        "# Navigate to the folder\n",
        "%cd world-happiness-report/\n",
        "\n",
        "# Unzip the dataset\n",
        "!unzip world-happiness-report.zip"
      ],
      "metadata": {
        "id": "fqQKhq0496nW"
      },
      "execution_count": null,
      "outputs": []
    },
    {
      "cell_type": "code",
      "source": [
        "!pip install pandas matplotlib seaborn\n"
      ],
      "metadata": {
        "id": "ww6ruUlF_S0F"
      },
      "execution_count": null,
      "outputs": []
    },
    {
      "cell_type": "code",
      "source": [],
      "metadata": {
        "id": "RHSVUrEwUJR6"
      },
      "execution_count": null,
      "outputs": []
    },
    {
      "cell_type": "code",
      "source": [
        "import pandas as pd\n",
        "import matplotlib.pyplot as plt\n",
        "import seaborn as sns\n",
        "\n",
        "# Load the 2015.csv file\n",
        "data_15 = pd.read_csv('/content/world-happiness-report/2015.csv')\n",
        "\n",
        "# Display basic information about the dataset\n",
        "\n",
        "data_15.info()\n",
        "data_15.head()"
      ],
      "metadata": {
        "id": "bdvEMxSNA_rn"
      },
      "execution_count": null,
      "outputs": []
    },
    {
      "cell_type": "code",
      "source": [],
      "metadata": {
        "id": "l_5dqhnvUKfA"
      },
      "execution_count": null,
      "outputs": []
    },
    {
      "cell_type": "code",
      "source": [
        "import pandas as pd\n",
        "import matplotlib.pyplot as plt\n",
        "import seaborn as sns\n",
        "\n",
        "# Load the 2015.csv file\n",
        "data_16 = pd.read_csv('/content/world-happiness-report/2016.csv')\n",
        "\n",
        "# Display basic information about the dataset\n",
        "\n",
        "data_16.info()\n",
        "data_16.head()"
      ],
      "metadata": {
        "id": "vfSQNcEYBCQM"
      },
      "execution_count": null,
      "outputs": []
    },
    {
      "cell_type": "code",
      "source": [],
      "metadata": {
        "id": "7jzXYO_0ULfB"
      },
      "execution_count": null,
      "outputs": []
    },
    {
      "cell_type": "code",
      "source": [
        "import pandas as pd\n",
        "import matplotlib.pyplot as plt\n",
        "import seaborn as sns\n",
        "\n",
        "# Load the 2015.csv file\n",
        "data_17 = pd.read_csv('/content/world-happiness-report/2017.csv')\n",
        "\n",
        "# Display basic information about the dataset\n",
        "\n",
        "data_17.info()\n",
        "data_17.head()"
      ],
      "metadata": {
        "id": "_sxEg0kkBJHV"
      },
      "execution_count": null,
      "outputs": []
    },
    {
      "cell_type": "code",
      "source": [
        "data_17 = data_17.rename(columns={\"Happiness.Score\": \"Happiness Score\"})"
      ],
      "metadata": {
        "id": "YRqgvDkyUMiu"
      },
      "execution_count": null,
      "outputs": []
    },
    {
      "cell_type": "code",
      "source": [
        "data_17 = data_17.rename(columns={\"Happiness.Rank\": \"Happiness Rank\"})"
      ],
      "metadata": {
        "id": "gqru9vAgzvvh"
      },
      "execution_count": null,
      "outputs": []
    },
    {
      "cell_type": "code",
      "source": [
        "data_17 = data_17.rename(columns={\"Economy..GDP.per.Capita.\": \"Economy (GDP per Capita)\"})"
      ],
      "metadata": {
        "id": "bCRUkxk8USf-"
      },
      "execution_count": null,
      "outputs": []
    },
    {
      "cell_type": "code",
      "source": [
        "data_17 = data_17.rename(columns={\"Health..Life.Expectancy.\": \"Health (Life Expectancy)\"})"
      ],
      "metadata": {
        "id": "cHiMaM1ifc2O"
      },
      "execution_count": null,
      "outputs": []
    },
    {
      "cell_type": "code",
      "source": [
        "data_17 = data_17.rename(columns={\"Trust..Government.Corruption.\": \"Trust (Government Corruption)\"})"
      ],
      "metadata": {
        "id": "ijhZAvBgfcyy"
      },
      "execution_count": null,
      "outputs": []
    },
    {
      "cell_type": "code",
      "source": [
        "data_17 = data_17.rename(columns={\"Dystopia.Residual\": \"Dystopia Residual\"})"
      ],
      "metadata": {
        "id": "W8KLAVCEfcv4"
      },
      "execution_count": null,
      "outputs": []
    },
    {
      "cell_type": "code",
      "source": [
        "data_17.head()\n"
      ],
      "metadata": {
        "id": "dUj_QPq4gA1j"
      },
      "execution_count": null,
      "outputs": []
    },
    {
      "cell_type": "code",
      "source": [],
      "metadata": {
        "id": "yLTjoxQZgQp3"
      },
      "execution_count": null,
      "outputs": []
    },
    {
      "cell_type": "code",
      "source": [
        "import pandas as pd\n",
        "import matplotlib.pyplot as plt\n",
        "import seaborn as sns\n",
        "\n",
        "# Load the 2015.csv file\n",
        "data_18 = pd.read_csv('/content/world-happiness-report/2018.csv')\n",
        "\n",
        "# Display basic information about the dataset\n",
        "\n",
        "data_18.info()\n",
        "data_18.head()"
      ],
      "metadata": {
        "id": "IOZccLq-BNTG"
      },
      "execution_count": null,
      "outputs": []
    },
    {
      "cell_type": "code",
      "source": [
        "data_18 = data_18.rename(columns={\"Score\": \"Happiness Score\"})"
      ],
      "metadata": {
        "id": "m0RtcgGz0VDI"
      },
      "execution_count": null,
      "outputs": []
    },
    {
      "cell_type": "code",
      "source": [
        "data_18 = data_18.rename(columns={\"Overall rank\": \"Happiness Rank\"})"
      ],
      "metadata": {
        "id": "rxaoZyh00X22"
      },
      "execution_count": null,
      "outputs": []
    },
    {
      "cell_type": "code",
      "source": [
        "data_18 = data_18.rename(columns={\"GDP per capita\": \"Economy (GDP per Capita)\"})"
      ],
      "metadata": {
        "id": "FQd-92VDUXqM"
      },
      "execution_count": null,
      "outputs": []
    },
    {
      "cell_type": "code",
      "source": [
        "data_18 = data_18.rename(columns={\"Healthy life expectancy\": \"Health (Life Expectancy)\"})"
      ],
      "metadata": {
        "id": "KiLmG8KLUXmy"
      },
      "execution_count": null,
      "outputs": []
    },
    {
      "cell_type": "code",
      "source": [
        "data_18 = data_18.rename(columns={\"Freedom to make life choices\": \"Freedom\"})"
      ],
      "metadata": {
        "id": "g7VMINh_UNbe"
      },
      "execution_count": null,
      "outputs": []
    },
    {
      "cell_type": "code",
      "source": [
        "data_18 = data_18.rename(columns={\"Perceptions of corruption\": \"Trust (Government Corruption)\"})"
      ],
      "metadata": {
        "id": "Bybr-P-jg2zo"
      },
      "execution_count": null,
      "outputs": []
    },
    {
      "cell_type": "code",
      "source": [
        "data_18 = data_18.rename(columns={\"Country or region\": \"Country\"})"
      ],
      "metadata": {
        "id": "evuMktxDjf-g"
      },
      "execution_count": null,
      "outputs": []
    },
    {
      "cell_type": "code",
      "source": [
        "data_18"
      ],
      "metadata": {
        "id": "nXkpJT4_g2wK"
      },
      "execution_count": null,
      "outputs": []
    },
    {
      "cell_type": "code",
      "source": [],
      "metadata": {
        "id": "aiDKBXj7g2tV"
      },
      "execution_count": null,
      "outputs": []
    },
    {
      "cell_type": "code",
      "source": [],
      "metadata": {
        "id": "0acm0-5mg2qe"
      },
      "execution_count": null,
      "outputs": []
    },
    {
      "cell_type": "code",
      "source": [
        "import pandas as pd\n",
        "import matplotlib.pyplot as plt\n",
        "import seaborn as sns\n",
        "\n",
        "# Load the 2015.csv file\n",
        "data_19 = pd.read_csv('/content/world-happiness-report/2019.csv')\n",
        "\n",
        "# Display basic information about the dataset\n",
        "data_19.info()\n",
        "data_19.head()\n",
        "\n"
      ],
      "metadata": {
        "id": "mFc7YJjzBQDH"
      },
      "execution_count": null,
      "outputs": []
    },
    {
      "cell_type": "code",
      "source": [
        "data_19 = data_19.rename(columns={\"Score\": \"Happiness Score\"})"
      ],
      "metadata": {
        "id": "a93jRKI01k0C"
      },
      "execution_count": null,
      "outputs": []
    },
    {
      "cell_type": "code",
      "source": [
        "data_19 = data_19.rename(columns={\"Overall rank\": \"Happiness Rank\"})"
      ],
      "metadata": {
        "id": "4dbmbV2k1v3N"
      },
      "execution_count": null,
      "outputs": []
    },
    {
      "cell_type": "code",
      "source": [
        "data_19 = data_19.rename(columns={\"GDP per capita\": \"Economy (GDP per Capita)\"})"
      ],
      "metadata": {
        "id": "aAjs2SdBWEZw"
      },
      "execution_count": null,
      "outputs": []
    },
    {
      "cell_type": "code",
      "source": [
        "data_19 = data_19.rename(columns={\"Healthy life expectancy\": \"Health (Life Expectancy)\"})"
      ],
      "metadata": {
        "id": "kCFiJMesWEWX"
      },
      "execution_count": null,
      "outputs": []
    },
    {
      "cell_type": "code",
      "source": [
        "data_19 = data_19.rename(columns={\"Perceptions of corruption\": \"Trust (Government Corruption)\"})"
      ],
      "metadata": {
        "id": "YsnSqT7SWET1"
      },
      "execution_count": null,
      "outputs": []
    },
    {
      "cell_type": "code",
      "source": [
        "data_19 = data_19.rename(columns={\"Country or region\": \"Country\"})"
      ],
      "metadata": {
        "id": "7IZzjq8ejqvg"
      },
      "execution_count": null,
      "outputs": []
    },
    {
      "cell_type": "code",
      "source": [
        "data_19"
      ],
      "metadata": {
        "id": "_rdZB9P8i1ZT"
      },
      "execution_count": null,
      "outputs": []
    },
    {
      "cell_type": "code",
      "source": [],
      "metadata": {
        "id": "ykK6rpc8i1Fn"
      },
      "execution_count": null,
      "outputs": []
    },
    {
      "cell_type": "code",
      "source": [
        "import pandas as pd\n",
        "import matplotlib.pyplot as plt\n",
        "import seaborn as sns\n",
        "\n",
        "# Load the 2015.csv file\n",
        "data_20 = pd.read_csv('/content/world-happiness-report/2020.csv')\n",
        "\n",
        "# Display basic information about the dataset\n",
        "\n",
        "data_20.info()\n",
        "data_20.head()"
      ],
      "metadata": {
        "id": "VVlOMKNoBVqT"
      },
      "execution_count": null,
      "outputs": []
    },
    {
      "cell_type": "code",
      "source": [
        "data_20 = data_20.rename(columns={\"Ladder score\": \"Happiness Score\"})"
      ],
      "metadata": {
        "id": "Ofq1TC92UsJf"
      },
      "execution_count": null,
      "outputs": []
    },
    {
      "cell_type": "code",
      "source": [
        "data_20 = data_20.rename(columns={\"Rank\": \"Happiness Rank\"})"
      ],
      "metadata": {
        "id": "nqwM9vAVKdsR"
      },
      "execution_count": null,
      "outputs": []
    },
    {
      "cell_type": "code",
      "source": [
        "data_20 = data_20.rename(columns={\"Country name\": \"Country\"})"
      ],
      "metadata": {
        "id": "K9NLuKWQjwff"
      },
      "execution_count": null,
      "outputs": []
    },
    {
      "cell_type": "code",
      "source": [
        "data_20 = data_20.rename(columns={\"Explained by: Log GDP per capita\": \"Economy (GDP per Capita)\"})"
      ],
      "metadata": {
        "id": "BNCC-OZUXED-"
      },
      "execution_count": null,
      "outputs": []
    },
    {
      "cell_type": "code",
      "source": [
        "data_20 = data_20.rename(columns={\"Explained by: Healthy life expectancy\": \"Health (Life Expectancy)\"})"
      ],
      "metadata": {
        "id": "5qH-JlmUkbIS"
      },
      "execution_count": null,
      "outputs": []
    },
    {
      "cell_type": "code",
      "source": [
        "data_20 = data_20.rename(columns={\"Explained by: Freedom to make life choices\": \"Freedom\"})"
      ],
      "metadata": {
        "id": "WTiCHzNokdrs"
      },
      "execution_count": null,
      "outputs": []
    },
    {
      "cell_type": "code",
      "source": [
        "data_20 = data_20.rename(columns={\"Dystopia + residual\": \"Dystopia Residual\"})"
      ],
      "metadata": {
        "id": "Djc2oVskkdoP"
      },
      "execution_count": null,
      "outputs": []
    },
    {
      "cell_type": "code",
      "source": [
        "data_20 = data_20.rename(columns={\"Explained by: Perceptions of corruption\": \"Trust (Government Corruption)\"})"
      ],
      "metadata": {
        "id": "Bsuho27qJrBc"
      },
      "execution_count": null,
      "outputs": []
    },
    {
      "cell_type": "code",
      "source": [
        "data_20 = data_20.rename(columns={\"Regional indicator\": \"Region\"})"
      ],
      "metadata": {
        "id": "NHXIE-L7lwBp"
      },
      "execution_count": null,
      "outputs": []
    },
    {
      "cell_type": "code",
      "source": [
        "import pandas as pd\n",
        "\n",
        "# Assuming you have a DataFrame named data_20\n",
        "\n",
        "# Add a new column \"Rank\" with incrementing values\n",
        "data_20.insert(0, \"Happiness Rank\", range(1, len(data_20) + 1))\n",
        "\n",
        "# Display the updated DataFrame\n",
        "\n"
      ],
      "metadata": {
        "id": "GnLSWgKYIXAA"
      },
      "execution_count": null,
      "outputs": []
    },
    {
      "cell_type": "code",
      "source": [
        "data_20"
      ],
      "metadata": {
        "id": "76lhaW7MlKDE"
      },
      "execution_count": null,
      "outputs": []
    },
    {
      "cell_type": "code",
      "source": [],
      "metadata": {
        "id": "s5u-aEhKmG2B"
      },
      "execution_count": null,
      "outputs": []
    },
    {
      "cell_type": "code",
      "source": [
        "import pandas as pd\n",
        "import matplotlib.pyplot as plt\n",
        "import seaborn as sns\n",
        "\n",
        "# Load the 2015.csv file\n",
        "data_21 = pd.read_csv('/content/world-happiness-report/2021.csv')\n",
        "\n",
        "# Display basic information about the dataset\n",
        "\n",
        "data_21.info()\n",
        "data_21.head()"
      ],
      "metadata": {
        "id": "KNtrBO_4BYUD"
      },
      "execution_count": null,
      "outputs": []
    },
    {
      "cell_type": "code",
      "source": [
        "data_21 = data_21.rename(columns={\"Ladder score\": \"Happiness Score\"})"
      ],
      "metadata": {
        "id": "5edhwSiRUPJK"
      },
      "execution_count": null,
      "outputs": []
    },
    {
      "cell_type": "code",
      "source": [
        "data_21 = data_21.rename(columns={\"Country name\": \"Country\"})"
      ],
      "metadata": {
        "id": "2aTEDFvPXO_F"
      },
      "execution_count": null,
      "outputs": []
    },
    {
      "cell_type": "code",
      "source": [
        "data_21 = data_21.rename(columns={\"Explained by: Log GDP per capita\": \"Economy (GDP per Capita)\"})"
      ],
      "metadata": {
        "id": "vKpde6tHXO7j"
      },
      "execution_count": null,
      "outputs": []
    },
    {
      "cell_type": "code",
      "source": [
        "data_21 = data_21.rename(columns={\"Explained by: Healthy life expectancy\": \"Health (Life Expectancy)\"})"
      ],
      "metadata": {
        "id": "uRkWUp01mXph"
      },
      "execution_count": null,
      "outputs": []
    },
    {
      "cell_type": "code",
      "source": [
        "data_21 = data_21.rename(columns={\"Explained by: Freedom to make life choices\": \"Freedom\"})"
      ],
      "metadata": {
        "id": "KrG2-PinmXc0"
      },
      "execution_count": null,
      "outputs": []
    },
    {
      "cell_type": "code",
      "source": [
        "data_21 = data_21.rename(columns={\"Dystopia + residual\": \"Dystopia Residual\"})"
      ],
      "metadata": {
        "id": "Ol3Ek6mcmXZb"
      },
      "execution_count": null,
      "outputs": []
    },
    {
      "cell_type": "code",
      "source": [
        "data_21 = data_21.rename(columns={\"Explained by: Perceptions of corruption\": \"Trust (Government Corruption)\"})"
      ],
      "metadata": {
        "id": "hBpBJw-zJQhB"
      },
      "execution_count": null,
      "outputs": []
    },
    {
      "cell_type": "code",
      "source": [
        "data_21 = data_21.rename(columns={\"Regional indicator\": \"Region\"})"
      ],
      "metadata": {
        "id": "K7h3Wcf4mXWR"
      },
      "execution_count": null,
      "outputs": []
    },
    {
      "cell_type": "code",
      "source": [
        "# Add a new column \"Rank\" with incrementing values\n",
        "data_21.insert(0, \"Happiness Rank\", range(1, len(data_21) + 1))\n",
        "\n"
      ],
      "metadata": {
        "id": "dRfeh1BeIHxu"
      },
      "execution_count": null,
      "outputs": []
    },
    {
      "cell_type": "code",
      "source": [
        "data_21.head(5)"
      ],
      "metadata": {
        "id": "a29Ajrl9movE"
      },
      "execution_count": null,
      "outputs": []
    },
    {
      "cell_type": "code",
      "source": [],
      "metadata": {
        "id": "nzy2X2WExMf1"
      },
      "execution_count": null,
      "outputs": []
    },
    {
      "cell_type": "code",
      "source": [
        "import pandas as pd\n",
        "import matplotlib.pyplot as plt\n",
        "import seaborn as sns\n",
        "\n",
        "# Load the 2015.csv file\n",
        "data_22 = pd.read_csv('/content/world-happiness-report/2022.csv')\n",
        "\n",
        "# Display basic information about the dataset\n",
        "data_22.head()\n",
        "data_22.info()\n"
      ],
      "metadata": {
        "id": "gxyRnknPBbp1"
      },
      "execution_count": null,
      "outputs": []
    },
    {
      "cell_type": "code",
      "source": [
        "data_22 = data_22.rename(columns={\"Happiness score\": \"Happiness Score\"})"
      ],
      "metadata": {
        "id": "vkuYihQTNWK-"
      },
      "execution_count": null,
      "outputs": []
    },
    {
      "cell_type": "code",
      "source": [
        "data_22"
      ],
      "metadata": {
        "id": "FrgjFVrAXb4S"
      },
      "execution_count": null,
      "outputs": []
    },
    {
      "cell_type": "code",
      "source": [
        "\n",
        "last_row_index = data_22.index[-1]\n",
        "\n",
        "# Drop the last row\n",
        "data_22 = data_22.drop(last_row_index)\n",
        "\n",
        "# Now, the last row of data_22 is removed from the DataFrame.\n"
      ],
      "metadata": {
        "id": "1vyxTpCoX-oF"
      },
      "execution_count": null,
      "outputs": []
    },
    {
      "cell_type": "code",
      "source": [
        "data_22"
      ],
      "metadata": {
        "id": "Vl7XTAp6YK0B"
      },
      "execution_count": null,
      "outputs": []
    },
    {
      "cell_type": "code",
      "source": [
        "# Assuming you have loaded Data_22 into a DataFrame named data_22\n",
        "\n",
        "# Specify the range of columns from index 2 to the last column\n",
        "columns_to_convert = data_22.columns[2:]\n",
        "\n",
        "# Loop through the specified columns and apply the replacement and conversion\n",
        "for column in columns_to_convert:\n",
        "    data_22[column] = data_22[column].str.replace(',', '.')\n",
        "    data_22[column] = data_22[column].astype(float)\n",
        "\n",
        "# Now, columns from index 2 to the last column in data_22 have commas replaced by periods and are of float data type.\n"
      ],
      "metadata": {
        "id": "RPBM_X5ZYKwo"
      },
      "execution_count": null,
      "outputs": []
    },
    {
      "cell_type": "code",
      "source": [
        "# Assuming you have loaded Data_22 into a DataFrame named data_22\n",
        "\n",
        "# Remove asterisks from the \"Country\" column\n",
        "data_22['Country'] = data_22['Country'].str.replace('*', '')\n",
        "\n",
        "# Now, the asterisks in the \"Country\" column of data_22 are removed.\n"
      ],
      "metadata": {
        "id": "rpNkGyDLZIm0"
      },
      "execution_count": null,
      "outputs": []
    },
    {
      "cell_type": "code",
      "source": [
        "data_22"
      ],
      "metadata": {
        "id": "taO4cK50Y9wg"
      },
      "execution_count": null,
      "outputs": []
    },
    {
      "cell_type": "code",
      "source": [
        "data_22 = data_22.rename(columns={\"Dystopia (1.83) + residual\": \"Dystopia Residual\"})"
      ],
      "metadata": {
        "id": "M4cNGCCKY9tG"
      },
      "execution_count": null,
      "outputs": []
    },
    {
      "cell_type": "code",
      "source": [
        "data_22 = data_22.rename(columns={\"Explained by: GDP per capita\": \"Economy (GDP per Capita)\"})"
      ],
      "metadata": {
        "id": "ijqaayJBY9qi"
      },
      "execution_count": null,
      "outputs": []
    },
    {
      "cell_type": "code",
      "source": [
        "data_22 = data_22.rename(columns={\"Explained by: Healthy life expectancy\": \"Health (Life Expectancy)\"})"
      ],
      "metadata": {
        "id": "5FD5axN0xnt6"
      },
      "execution_count": null,
      "outputs": []
    },
    {
      "cell_type": "code",
      "source": [
        "data_22 = data_22.rename(columns={\"Explained by: Generosity\": \"Generosity\"})"
      ],
      "metadata": {
        "id": "7ZYHkOPBxnqW"
      },
      "execution_count": null,
      "outputs": []
    },
    {
      "cell_type": "code",
      "source": [
        "data_22 = data_22.rename(columns={\"Explained by: Perceptions of corruption\": \"Trust (Government Corruption)\"})"
      ],
      "metadata": {
        "id": "O1bILQMWxnnq"
      },
      "execution_count": null,
      "outputs": []
    },
    {
      "cell_type": "code",
      "source": [
        "data_22 = data_22.rename(columns={\"RANK\": \"Happiness Rank\"})"
      ],
      "metadata": {
        "id": "3PHXs9on2SrH"
      },
      "execution_count": null,
      "outputs": []
    },
    {
      "cell_type": "code",
      "source": [
        "data_22"
      ],
      "metadata": {
        "id": "Lrfwe5JGxnlI"
      },
      "execution_count": null,
      "outputs": []
    },
    {
      "cell_type": "code",
      "source": [],
      "metadata": {
        "id": "bBxZy7014abA"
      },
      "execution_count": null,
      "outputs": []
    },
    {
      "cell_type": "code",
      "source": [],
      "metadata": {
        "id": "pIqfmX68ESfC"
      },
      "execution_count": null,
      "outputs": []
    },
    {
      "cell_type": "code",
      "source": [],
      "metadata": {
        "id": "lkeOfusxESbk"
      },
      "execution_count": null,
      "outputs": []
    },
    {
      "cell_type": "code",
      "source": [],
      "metadata": {
        "id": "NPSSvcZ7ESY_"
      },
      "execution_count": null,
      "outputs": []
    },
    {
      "cell_type": "markdown",
      "source": [
        "### Overall Analysis"
      ],
      "metadata": {
        "id": "12Jq4odYSncY"
      }
    },
    {
      "cell_type": "code",
      "source": [
        "import pandas as pd\n",
        "\n",
        "# Assuming you have loaded Data_15 to Data_23 into separate DataFrames\n",
        "\n",
        "years = list(range(2015, 2023))  # Years from 2015 to 2023\n",
        "\n",
        "for year in years:\n",
        "    dataset_name = f\"data_{year - 2000}\"  # Generating the dataset name (Data_15, Data_16, etc.)\n",
        "    column_name = 'Happiness Score'\n",
        "    mean_score = globals()[dataset_name][column_name].mean()\n",
        "    print(f\"Mean Happiness Score for {year}: {mean_score:.4f}\")\n"
      ],
      "metadata": {
        "id": "i_YAuwtINXxa"
      },
      "execution_count": null,
      "outputs": []
    },
    {
      "cell_type": "code",
      "source": [],
      "metadata": {
        "id": "jgFIfzACNV1x"
      },
      "execution_count": null,
      "outputs": []
    },
    {
      "cell_type": "markdown",
      "source": [
        "### Merged Dataset"
      ],
      "metadata": {
        "id": "Ntv8M3j54tqL"
      }
    },
    {
      "cell_type": "markdown",
      "source": [
        "### Merging by Region"
      ],
      "metadata": {
        "id": "Q_e7pKoCicVb"
      }
    },
    {
      "cell_type": "code",
      "source": [
        "country_region_df = data_15[['Country', 'Region']]"
      ],
      "metadata": {
        "id": "gjDYjVrb3o_-"
      },
      "execution_count": null,
      "outputs": []
    },
    {
      "cell_type": "code",
      "source": [
        "data_17 = data_17.merge(country_region_df, on=\"Country\", how=\"left\")"
      ],
      "metadata": {
        "id": "M-HKrSFviDr9"
      },
      "execution_count": null,
      "outputs": []
    },
    {
      "cell_type": "code",
      "source": [
        "data_17"
      ],
      "metadata": {
        "id": "5inikGzoF9cW"
      },
      "execution_count": null,
      "outputs": []
    },
    {
      "cell_type": "code",
      "source": [
        "data_18 = data_18.merge(country_region_df, on=\"Country\", how=\"left\")\n",
        "\n",
        "data_18"
      ],
      "metadata": {
        "id": "lulvF1OeDoVp"
      },
      "execution_count": null,
      "outputs": []
    },
    {
      "cell_type": "code",
      "source": [],
      "metadata": {
        "id": "OI2byekbDnKY"
      },
      "execution_count": null,
      "outputs": []
    },
    {
      "cell_type": "code",
      "source": [
        "data_19 = data_19.merge(country_region_df, on=\"Country\", how=\"left\")"
      ],
      "metadata": {
        "id": "9i-buMPcGv3t"
      },
      "execution_count": null,
      "outputs": []
    },
    {
      "cell_type": "code",
      "source": [
        "data_19"
      ],
      "metadata": {
        "id": "dUbapKKrGyz7"
      },
      "execution_count": null,
      "outputs": []
    },
    {
      "cell_type": "code",
      "source": [
        "data_22 = data_22.merge(country_region_df, on=\"Country\", how=\"left\")\n",
        "\n"
      ],
      "metadata": {
        "id": "zuxAyc9CCZ19"
      },
      "execution_count": null,
      "outputs": []
    },
    {
      "cell_type": "code",
      "source": [
        "data_22"
      ],
      "metadata": {
        "id": "cqLLlSmBCmmM"
      },
      "execution_count": null,
      "outputs": []
    },
    {
      "cell_type": "code",
      "source": [],
      "metadata": {
        "id": "vMrPDsI0MKVZ"
      },
      "execution_count": null,
      "outputs": []
    },
    {
      "cell_type": "markdown",
      "source": [
        "## Add year in all"
      ],
      "metadata": {
        "id": "Do0-LpHBMSFl"
      }
    },
    {
      "cell_type": "code",
      "source": [
        "\n",
        "import pandas as pd\n",
        "\n",
        "# List of your DataFrames (data_15 to data_22)\n",
        "data_frames = [data_15, data_16, data_17, data_18, data_19, data_20, data_21, data_22]\n",
        "years = [2015, 2016, 2017, 2018, 2019, 2020, 2021, 2022]\n",
        "\n",
        "# Iterate through each DataFrame and add the \"Year\" column\n",
        "for i, df in enumerate(data_frames):\n",
        "    year = years[i]\n",
        "    df['Year'] = year\n",
        "\n",
        "# Now, each DataFrame has a \"Year\" column corresponding to the year\n"
      ],
      "metadata": {
        "id": "1jOTHtV8MKR6"
      },
      "execution_count": null,
      "outputs": []
    },
    {
      "cell_type": "code",
      "source": [],
      "metadata": {
        "id": "NRa66jD5MJ4s"
      },
      "execution_count": null,
      "outputs": []
    },
    {
      "cell_type": "markdown",
      "source": [
        "### Mergerd all datasete together"
      ],
      "metadata": {
        "id": "S1BzVwFximdY"
      }
    },
    {
      "cell_type": "code",
      "source": [
        "import pandas as pd\n",
        "\n",
        "# List of DataFrames (data_15 to data_22)\n",
        "data_frames = [data_15, data_16, data_17, data_18, data_19, data_20, data_21, data_22]\n",
        "\n",
        "# Specify the columns you want to keep\n",
        "columns_to_keep = [\"Country\", \"Region\", \"Happiness Rank\", \"Happiness Score\",\n",
        "                   \"Economy (GDP per Capita)\", \"Health (Life Expectancy)\",\n",
        "                    \"Trust (Government Corruption)\", \"Generosity\", \"Year\"]\n",
        "\n",
        "# Create a list of DataFrames with only the specified columns\n",
        "filtered_data_frames = [df[columns_to_keep] for df in data_frames]\n",
        "\n",
        "# Concatenate the filtered DataFrames into a single DataFrame\n",
        "merged_data = pd.concat(filtered_data_frames, ignore_index=True)\n",
        "\n",
        "# Display the merged DataFrame\n",
        "\n"
      ],
      "metadata": {
        "id": "7yBwpeUFNVmy"
      },
      "execution_count": null,
      "outputs": []
    },
    {
      "cell_type": "code",
      "source": [
        "# Assuming you have the DataFrame merged_data\n",
        "\n",
        "# Drop rows with missing values\n",
        "merged_data = merged_data.dropna()"
      ],
      "metadata": {
        "id": "9fxg9pfHNVOU"
      },
      "execution_count": null,
      "outputs": []
    },
    {
      "cell_type": "code",
      "source": [
        "merged_data"
      ],
      "metadata": {
        "id": "QO0ywdL_NVJA"
      },
      "execution_count": null,
      "outputs": []
    },
    {
      "cell_type": "code",
      "source": [],
      "metadata": {
        "id": "EZTTkhc4lG_O"
      },
      "execution_count": null,
      "outputs": []
    },
    {
      "cell_type": "code",
      "source": [],
      "metadata": {
        "id": "j8LMnwBemnOQ"
      },
      "execution_count": null,
      "outputs": []
    },
    {
      "cell_type": "code",
      "source": [],
      "metadata": {
        "id": "xh0dzMmHmYqV"
      },
      "execution_count": null,
      "outputs": []
    },
    {
      "cell_type": "markdown",
      "source": [
        "##Trend 1"
      ],
      "metadata": {
        "id": "CtesHhKqmoqb"
      }
    },
    {
      "cell_type": "markdown",
      "source": [
        "##Title:\n",
        "##\"Trends in Global Happiness: An Analysis of Mean Happiness Scores from 2015 to 2022\""
      ],
      "metadata": {
        "id": "klHIvv9SmaEZ"
      }
    },
    {
      "cell_type": "code",
      "source": [
        "import pandas as pd\n",
        "import matplotlib.pyplot as plt\n",
        "\n",
        "# Calculate the mean happiness score for each year\n",
        "yearly_mean_happiness = merged_data.groupby('Year')['Happiness Score'].mean()\n",
        "\n",
        "# Create a line chart to visualize the trend\n",
        "plt.figure(figsize=(12, 6))\n",
        "plt.plot(yearly_mean_happiness.index, yearly_mean_happiness.values, marker='o', linestyle='-')\n",
        "plt.title('Trend in Global Happiness Scores Over the Years (2015-2022)')\n",
        "plt.xlabel('Year')\n",
        "plt.ylabel('Mean Happiness Score')\n",
        "plt.grid(True)\n",
        "\n",
        "# Add a vertical line for COVID-19 impact\n",
        "plt.axvline(x=2020, color='red', linestyle='--', linewidth=1.5, label='COVID-19 Impact (2020)', alpha=0.7)\n",
        "\n",
        "# Adjusted coordinates for the label\n",
        "plt.text(2020.15, max(yearly_mean_happiness), 'COVID-19 Impact (2020)', color='red')\n",
        "\n",
        "# Display the chart\n",
        "plt.show()\n"
      ],
      "metadata": {
        "id": "fYDUqCVmNVDt"
      },
      "execution_count": null,
      "outputs": []
    },
    {
      "cell_type": "markdown",
      "source": [
        "Introduction:\n",
        "This analysis examines the evolving landscape of global happiness from 2015 to 2022, focusing on mean happiness scores. The objective is to uncover trends and identify noteworthy insights into the changing levels of happiness worldwide during this period.\n",
        "\n",
        "Findings:\n",
        "\n",
        "Steady Increase in Happiness: The mean happiness score has shown a consistent upward trend over the years, beginning at 5.3757 in 2015 and reaching 5.5536 in 2022. This suggests a sustained improvement in global well-being.\n",
        "\n",
        "Consistent Growth: Despite occasional fluctuations, the overall trend exhibits steady growth. While there may be short-term variations, the general direction is upward.\n",
        "\n",
        "Impact of External Events: It is essential to recognize that the dataset includes the years 2020 and 2021, marked by the global COVID-19 pandemic. The increased happiness scores for these years may reflect resilience and adaptability in the face of the pandemic's challenges.\n",
        "\n",
        "Regional Variations: Further in-depth analysis may reveal regional differences and varying factors contributing to happiness across continents and countries.\n",
        "\n",
        "Methodology:\n",
        "This analysis utilized data from annual happiness reports for the years 2015 to 2022. Mean happiness scores for each year were calculated, providing an overview of global happiness trends.\n",
        "\n",
        "Conclusion:\n",
        "The analysis highlights a consistent increase in global happiness from 2015 to 2022. While numerous factors influence these trends, a comprehensive understanding of the underlying causes requires a more detailed examination of regional, cultural, and economic variables.\n",
        "\n",
        "This analysis serves as a solid foundation for further research into the dynamic landscape of global happiness and its driving forces. It underscores the resilience and adaptability of individuals and societies in the face of challenges and offers valuable insights for policymakers and researchers interested in the well-being and quality of life.\n",
        "\n",
        "This adjusted content is suitable for showcasing your analysis from 2015 to 2022, providing context and insights into the trends in global happiness."
      ],
      "metadata": {
        "id": "B9QZGKeamSfa"
      }
    },
    {
      "cell_type": "code",
      "source": [],
      "metadata": {
        "id": "uVr-zk8hkEbv"
      },
      "execution_count": null,
      "outputs": []
    },
    {
      "cell_type": "code",
      "source": [],
      "metadata": {
        "id": "vo08AD8lpUka"
      },
      "execution_count": null,
      "outputs": []
    },
    {
      "cell_type": "code",
      "source": [],
      "metadata": {
        "id": "Oce-hK6mpUQi"
      },
      "execution_count": null,
      "outputs": []
    },
    {
      "cell_type": "markdown",
      "source": [
        "## Trend 2"
      ],
      "metadata": {
        "id": "x9rZe5M7po2T"
      }
    },
    {
      "cell_type": "code",
      "source": [
        "unique_regions = merged_data['Region'].unique()\n",
        "print(unique_regions)"
      ],
      "metadata": {
        "id": "NgUug_O9nl3t"
      },
      "execution_count": null,
      "outputs": []
    },
    {
      "cell_type": "code",
      "source": [
        "# Define a dictionary to map similar regions to standard names\n",
        "region_mapping = {\n",
        "    'North America and ANZ': 'North America',\n",
        "    'Middle East and North Africa': 'Middle East and Northern Africa',\n",
        "    'Eastern Asia': 'East Asia',\n",
        "    'Southeast Asia': 'Southeastern Asia',\n",
        "    # Add more mappings as needed\n",
        "}\n"
      ],
      "metadata": {
        "id": "Tk2b-c3Inl0U"
      },
      "execution_count": null,
      "outputs": []
    },
    {
      "cell_type": "code",
      "source": [
        "merged_data['Region'] = merged_data['Region'].map(region_mapping).fillna(merged_data['Region'])"
      ],
      "metadata": {
        "id": "HJ_2WkFUnlyT"
      },
      "execution_count": null,
      "outputs": []
    },
    {
      "cell_type": "code",
      "source": [
        "merged_data['Region'] = merged_data['Region'].replace('South Asia', 'Southern Asia')\n"
      ],
      "metadata": {
        "id": "puZduqEYqJ5S"
      },
      "execution_count": null,
      "outputs": []
    },
    {
      "cell_type": "code",
      "source": [
        "merged_data['Region'] = merged_data['Region'].replace('Commonwealth of Independent States', 'CIS')\n"
      ],
      "metadata": {
        "id": "9fX0N3gsqiXo"
      },
      "execution_count": null,
      "outputs": []
    },
    {
      "cell_type": "markdown",
      "source": [
        "### Defining Nordic Countires\n"
      ],
      "metadata": {
        "id": "2WyY5OeVMxTR"
      }
    },
    {
      "cell_type": "code",
      "source": [
        "Nordic_countries = ['Finland', 'Denmark', 'Iceland', 'Norway', 'Sweden']\n",
        "\n",
        "# Update the 'Region' column for Scandinavian countries\n",
        "merged_data.loc[merged_data['Country'].isin(Nordic_countries), 'Region'] = 'Nordic'\n"
      ],
      "metadata": {
        "id": "ZKriocqZ6kI7"
      },
      "execution_count": null,
      "outputs": []
    },
    {
      "cell_type": "code",
      "source": [],
      "metadata": {
        "id": "qv1HYJUnMRa0"
      },
      "execution_count": null,
      "outputs": []
    },
    {
      "cell_type": "code",
      "source": [
        "import matplotlib.pyplot as plt\n",
        "import seaborn as sns\n",
        "\n",
        "# Calculate the average happiness scores by region and sort in descending order\n",
        "region_scores = merged_data.groupby('Region')['Happiness Score'].mean().sort_values(ascending=False)\n",
        "\n",
        "# Create a bar chart to compare average happiness scores by region\n",
        "plt.figure(figsize=(12, 6))\n",
        "ax = sns.barplot(x=region_scores.index, y=region_scores.values, ci=None, palette='viridis')\n",
        "\n",
        "plt.xticks(rotation=90, fontsize=12)  # Rotate x-axis labels and set font size\n",
        "plt.title('Average Happiness Scores by Region (2015-2022)', fontsize=16)  # Increase title font size\n",
        "plt.xlabel('Region', fontsize=14)  # Increase x-axis label font size\n",
        "plt.ylabel('Average Happiness Score', fontsize=14)  # Increase y-axis label font size\n",
        "plt.grid(axis='y', linestyle='--', alpha=0.7)\n",
        "\n",
        "plt.tight_layout()\n",
        "\n",
        "# Display the chart\n",
        "plt.show()\n"
      ],
      "metadata": {
        "id": "CEzFDVhDrRoS"
      },
      "execution_count": null,
      "outputs": []
    },
    {
      "cell_type": "code",
      "source": [
        "import matplotlib.pyplot as plt\n",
        "\n",
        "# Calculate the total count of countries in each region\n",
        "region_total_counts = region_counts.values\n",
        "\n",
        "# Define labels for the pie chart\n",
        "labels = region_scores.index\n",
        "\n",
        "# Create a pie chart\n",
        "plt.figure(figsize=(8, 8))\n",
        "plt.pie(region_total_counts, labels=labels, autopct='%1.1f%%', startangle=140, colors=sns.color_palette('viridis'))\n",
        "\n",
        "plt.title('Dataset Distribution of Countries by Region', fontsize=16)\n",
        "plt.axis('equal')  # Equal aspect ratio ensures that pie is drawn as a circle.\n",
        "\n",
        "# Display the pie chart\n",
        "plt.show()\n"
      ],
      "metadata": {
        "id": "4mT1POr2HOWC"
      },
      "execution_count": null,
      "outputs": []
    },
    {
      "cell_type": "code",
      "source": [],
      "metadata": {
        "id": "GgKH4FpBO7JF"
      },
      "execution_count": null,
      "outputs": []
    },
    {
      "cell_type": "markdown",
      "source": [
        "##  \"Regional Disparities in Happiness Scores and Data Distribution Analysis\"\n",
        "---\n",
        "\n",
        "The examination of happiness scores across twelve distinct geographical regions reveals striking disparities. Notably, Nordic, Australia, and North America emerge with the highest happiness scores, signifying a pronounced sense of well-being in these regions. In contrast, Sub-Saharan Africa records the lowest happiness score, indicating substantial challenges in terms of overall happiness and life satisfaction.\n",
        "\n",
        "Between these two extremes, Western Europe, Latin America, and East Asia exhibit moderate happiness scores, suggesting variations in well-being within these regions. These disparities in happiness scores underscore the vital importance of carefully considering the unique context and factors that contribute to well-being in each region. Addressing well-being and quality of life in diverse regions demands tailored approaches that acknowledge these regional distinctions.\n",
        "\n",
        "The proportions provided depict the distribution of data across regions out of a total of 1202 data points. Central and Eastern Europe dominates with the highest share at approximately 17%, while Latin America and Caribbean, Middle East and Northern Africa, and Sub-Saharan Africa also make substantial contributions, accounting for about 13.9%, 12.1%, and 24.3%, respectively. Conversely, Australia and New Zealand, North America, and CIS have more modest representations, each falling below 2%. These proportions underscore the varying influence of each region in the dataset's overall assessment, impacting the evaluation of well-being and happiness.\n",
        "\n",
        "\n",
        "\n",
        "\n",
        "\n"
      ],
      "metadata": {
        "id": "DLXUPUG61PxI"
      }
    },
    {
      "cell_type": "code",
      "source": [],
      "metadata": {
        "id": "iFj06A8rkES1"
      },
      "execution_count": null,
      "outputs": []
    },
    {
      "cell_type": "code",
      "source": [],
      "metadata": {
        "id": "7CgXigKz6sxs"
      },
      "execution_count": null,
      "outputs": []
    },
    {
      "cell_type": "markdown",
      "source": [
        "### Saving Dataframe"
      ],
      "metadata": {
        "id": "zLQNU1L96twY"
      }
    },
    {
      "cell_type": "code",
      "source": [
        "merged_data.to_csv('/content/merged_data.csv', index=False)\n"
      ],
      "metadata": {
        "id": "8NrbumiL6zGt"
      },
      "execution_count": null,
      "outputs": []
    },
    {
      "cell_type": "code",
      "source": [],
      "metadata": {
        "id": "v3wnpa5GGapv"
      },
      "execution_count": null,
      "outputs": []
    },
    {
      "cell_type": "markdown",
      "source": [
        "### Generating Pivot Table\n"
      ],
      "metadata": {
        "id": "klYOF7maGbqh"
      }
    },
    {
      "cell_type": "code",
      "source": [
        "countries = ['Finland', 'Denmark', 'Switzerland', 'Iceland', 'Norway', 'Netherlands', 'Sweden', 'New Zealand', 'Canada', 'Australia']\n",
        "years = list(range(2015, 2023))\n",
        "\n",
        "filtered_data = merged_data[merged_data['Country'].isin(countries) & merged_data['Year'].isin(years)]"
      ],
      "metadata": {
        "id": "o3ypvUVLLFhz"
      },
      "execution_count": null,
      "outputs": []
    },
    {
      "cell_type": "code",
      "source": [
        "# Select the relevant columns\n",
        "filtered_data = merged_data[merged_data['Country'].isin(countries)]\n",
        "\n",
        "# Pivot the data to create the desired format\n",
        "pivot_data = filtered_data.pivot(index='Country', columns='Year', values='Happiness Score')\n",
        "\n",
        "# Reset the index\n",
        "pivot_data.reset_index(inplace=True)\n",
        "\n",
        "# Rename the columns to match the desired format\n",
        "pivot_data.columns = ['Country'] + [str(year) for year in years]\n",
        "\n",
        "# Set the column names\n",
        "pivot_data.columns.name = None\n",
        "\n",
        "# Display the resulting dataset\n",
        "print(pivot_data)\n"
      ],
      "metadata": {
        "id": "DSB2A8QP6y6x"
      },
      "execution_count": null,
      "outputs": []
    },
    {
      "cell_type": "code",
      "source": [],
      "metadata": {
        "id": "FgaJWy4JYac3"
      },
      "execution_count": null,
      "outputs": []
    },
    {
      "cell_type": "code",
      "source": [],
      "metadata": {
        "id": "Hzbl5fWKYmzQ"
      },
      "execution_count": null,
      "outputs": []
    },
    {
      "cell_type": "markdown",
      "source": [
        "## Trend 3"
      ],
      "metadata": {
        "id": "aVstwXQe3D-W"
      }
    },
    {
      "cell_type": "code",
      "source": [
        "len(merged_data['Country'].unique())"
      ],
      "metadata": {
        "id": "kfzHvtco3JHw"
      },
      "execution_count": null,
      "outputs": []
    },
    {
      "cell_type": "code",
      "source": [
        "rank = merged_data.groupby('Country')['Happiness Score'].mean().nlargest(169).reset_index()"
      ],
      "metadata": {
        "id": "qUs6Ya6qkEQF"
      },
      "execution_count": null,
      "outputs": []
    },
    {
      "cell_type": "code",
      "source": [
        "type(rank)"
      ],
      "metadata": {
        "id": "unM1DtgSkENQ"
      },
      "execution_count": null,
      "outputs": []
    },
    {
      "cell_type": "code",
      "source": [
        "top_10_countries = rank.head(10)"
      ],
      "metadata": {
        "id": "J55iSG5ZkEKx"
      },
      "execution_count": null,
      "outputs": []
    },
    {
      "cell_type": "code",
      "source": [
        "top_10_countries"
      ],
      "metadata": {
        "id": "5ATKHIUnEBgE"
      },
      "execution_count": null,
      "outputs": []
    },
    {
      "cell_type": "code",
      "source": [
        "top_10 = top_10_countries['Country']"
      ],
      "metadata": {
        "id": "C04xARSCkEID"
      },
      "execution_count": null,
      "outputs": []
    },
    {
      "cell_type": "code",
      "source": [
        "import matplotlib.pyplot as plt\n",
        "import seaborn as sns\n",
        "\n",
        "# Sort the legend labels by their first appearance in the year 2015\n",
        "legend_order = filtered_data[filtered_data['Year'] == 2015]['Country'].unique()\n",
        "\n",
        "# Define a custom color palette for better visibility\n",
        "custom_palette = sns.color_palette(\"husl\", n_colors=len(top_10))\n",
        "\n",
        "# Set a larger figure size\n",
        "plt.figure(figsize=(14, 8))\n",
        "\n",
        "# Create a lineplot with custom aesthetics and the ordered legend\n",
        "ax = sns.lineplot(data=filtered_data, x='Year', y='Happiness Score', hue='Country', linewidth=2, palette=custom_palette, hue_order=legend_order)\n",
        "\n",
        "# Customizing the title, labels, and legend\n",
        "plt.title('Happiness Scores Fluctuation Over Years (2015-2022)', fontsize=16)\n",
        "plt.xlabel('Year', fontsize=14)\n",
        "plt.ylabel('Happiness Score', fontsize=14)\n",
        "\n",
        "# Customizing the legend\n",
        "plt.legend(title='Country', bbox_to_anchor=(1.05, 1), loc='upper left', fontsize=12)\n",
        "\n",
        "# Adding a grid for better readability\n",
        "plt.grid(axis='y', linestyle='--', alpha=0.7)\n",
        "\n",
        "# Adding a background color to the plot area\n",
        "ax.set_facecolor('#f0f0f0')\n",
        "\n",
        "# Customizing the x-axis tick labels for better visibility\n",
        "plt.xticks(range(2015, 2023), fontsize=12)\n",
        "\n",
        "# Adding a shadow to the legend for a more appealing look\n",
        "plt.legend(title='Country', bbox_to_anchor=(1.05, 1), loc='upper left', fontsize=12, shadow=True)\n",
        "\n",
        "# Show a vertical line to indicate the year 2020\n",
        "plt.axvline(x=2020, color='red', linestyle='--', linewidth=1.5, label='COVID-19 Impact (2020)', alpha=0.7)\n",
        "\n",
        "# Annotating the vertical line\n",
        "plt.annotate('COVID-19 Impact (2020)', xy=(2020, max(filtered_data['Happiness Score']) - 0.25), color='red', fontsize=12)\n",
        "\n",
        "# Set a background color for the plot\n",
        "ax.set_facecolor('#f9f9f9')\n",
        "\n",
        "# Tighten the layout\n",
        "plt.tight_layout()\n",
        "\n",
        "# Display the chart\n",
        "plt.show()\n"
      ],
      "metadata": {
        "id": "L6JM8j9NkEC3"
      },
      "execution_count": null,
      "outputs": []
    },
    {
      "cell_type": "markdown",
      "source": [
        "## Happiness Trends in Leading Nations: A 2015-2022 Analysis\n",
        "---\n",
        "Introduction:\n",
        "This research explores the fluctuation of happiness scores in the top countries from 2015 to 2022. The selected countries include Australia, Canada, Denmark, Finland, Iceland, Netherlands, New Zealand, Norway, Sweden, and Switzerland.\n",
        "\n",
        "Key Findings:\n",
        "\n",
        "Stability in High Happiness: The selected countries consistently rank high in happiness scores throughout the years, reflecting stable well-being and quality of life.\n",
        "\n",
        "Finland's Upward Trajectory: Finland exhibits an upward happiness score trend, reaching remarkable scores in recent years. This positive trajectory may be attributed to various societal factors.\n",
        "\n",
        "Denmark's Consistency: Denmark maintains its position among the top countries with consistently high happiness scores.\n",
        "\n",
        "Canada's Downward Trend: Canada, while still maintaining a high rank, has experienced a slight downward trend in happiness scores in recent years, possibly due to evolving economic and social factors.\n",
        "\n",
        "Impact of COVID-19 (2020): The year 2020 marked a global shift due to the COVID-19 pandemic. Many countries experienced a slight dip in happiness scores during this period, indicating the widespread challenges faced.\n",
        "\n",
        "Continued High Scores: Despite the pandemic, these countries continued to rank high, showcasing their resilience and robust societal structures.\n",
        "\n",
        "Recommendations:\n",
        "The data highlights the success of these countries in maintaining high levels of happiness, with specific attention to Canada's downward trend. Employers and policymakers worldwide can draw inspiration from these nations to promote well-being, social support, and economic stability. Additionally, it emphasizes the importance of adaptability during challenging times, as exemplified by these countries during the COVID-19 pandemic."
      ],
      "metadata": {
        "id": "4HYv9fryDtSb"
      }
    },
    {
      "cell_type": "code",
      "source": [],
      "metadata": {
        "id": "ZvG9n0STDs50"
      },
      "execution_count": null,
      "outputs": []
    },
    {
      "cell_type": "code",
      "source": [],
      "metadata": {
        "id": "H34XC0jpYgg6"
      },
      "execution_count": null,
      "outputs": []
    },
    {
      "cell_type": "markdown",
      "source": [
        "### Trend 4"
      ],
      "metadata": {
        "id": "AwduPwsxY38j"
      }
    },
    {
      "cell_type": "code",
      "source": [
        "# Assuming your DataFrame is named merged_data\n",
        "pivot_table_region = merged_data.groupby(['Region', 'Year'])['Happiness Score'].mean().unstack()\n"
      ],
      "metadata": {
        "id": "m95mMD95o_oo"
      },
      "execution_count": null,
      "outputs": []
    },
    {
      "cell_type": "code",
      "source": [
        "pivot_table_region"
      ],
      "metadata": {
        "id": "8haaq9kypzBk"
      },
      "execution_count": null,
      "outputs": []
    },
    {
      "cell_type": "code",
      "source": [
        "# Group the data by 'Region' and calculate the mean happiness score for each region\n",
        "mean_happiness_by_region = merged_data.groupby('Region')['Happiness Score'].mean()\n",
        "\n",
        "# Convert the result to a DataFrame for better presentation\n",
        "mean_happiness_by_region_df = mean_happiness_by_region.reset_index()\n",
        "mean_happiness_by_region_df.columns = ['Region', 'Mean Happiness Score']\n",
        "\n",
        "mean_happiness_mean = mean_happiness_by_region_df['Mean Happiness Score'].mean()\n"
      ],
      "metadata": {
        "id": "mOdEWwBSiIyg"
      },
      "execution_count": null,
      "outputs": []
    },
    {
      "cell_type": "code",
      "source": [
        "east_asia_data = merged_data[merged_data['Region'] == 'East Asia']"
      ],
      "metadata": {
        "id": "yMe0XpPjnVWX"
      },
      "execution_count": null,
      "outputs": []
    },
    {
      "cell_type": "code",
      "source": [
        "east_asia_data['Country'].unique()"
      ],
      "metadata": {
        "id": "lAWgre_-neXU"
      },
      "execution_count": null,
      "outputs": []
    },
    {
      "cell_type": "code",
      "source": [
        "import matplotlib.pyplot as plt\n",
        "import seaborn as sns\n",
        "\n",
        "# Calculate the mean happiness score for each region\n",
        "mean_happiness_scores = merged_data.groupby('Region')['Happiness Score'].mean().sort_values(ascending=False)\n",
        "\n",
        "# Create a custom order for the legend\n",
        "legend_order = mean_happiness_scores.index.tolist()\n",
        "\n",
        "# Set the figure size\n",
        "plt.figure(figsize=(12, 6))\n",
        "\n",
        "# Create the trend plot using Seaborn with the ordered regions\n",
        "sns.lineplot(data=merged_data, x='Year', y='Happiness Score', hue='Region', ci=None, hue_order=legend_order)\n",
        "\n",
        "# Set labels and title\n",
        "plt.title('Happiness Score Trends by Region (2015-2022)')\n",
        "plt.xlabel('Year')\n",
        "plt.ylabel('Happiness Score')\n",
        "\n",
        "# Move the legend to the top right corner\n",
        "plt.legend(title='Region', bbox_to_anchor=(1.05, 1), loc='upper left')\n",
        "\n",
        "# Add a vertical line for the year 2020 (COVID-19)\n",
        "plt.axvline(x=2020, color='red', linestyle='--', alpha=0.7)\n",
        "\n",
        "# Add horizontal lines for happiness score 7 and 5\n",
        "plt.axhline(y=mean_happiness_mean, color='green', linestyle='--', alpha=0.7)\n",
        "\n",
        "# Add labels for the vertical lines\n",
        "plt.text(2020, max(merged_data['Happiness Score']) - 0.25, 'COVID-19 Impact (2020)', color='red', fontsize=12)\n",
        "\n",
        "# Add labels for the horizontal lines\n",
        "plt.text(2015, mean_happiness_mean + 0.05, 'Mean Happiness Score by Region', color='green', fontsize=12)\n",
        "\n",
        "# Display the chart\n",
        "plt.show()\n"
      ],
      "metadata": {
        "id": "-D7nY8J8YgdX"
      },
      "execution_count": null,
      "outputs": []
    },
    {
      "cell_type": "markdown",
      "source": [
        "## Title: \"Exploring Regional Happiness Trends (2015-2022)\"\n",
        "---\n",
        "Introduction:\n",
        "This research delves into the fluctuating happiness trends across global regions from 2015 to 2022. We analyze the average happiness scores by region and create a pivot table showcasing the happiness scores over the years. This information provides valuable insights into the well-being of populations in different regions and highlights the dynamic nature of happiness.\n",
        "\n",
        "Findings:\n",
        "\n",
        "Regional Variation: Happiness scores vary significantly across regions, with Scandinavian and Western Europe consistently scoring the highest, while Sub-Saharan Africa and Southern Asia experience lower scores.\n",
        "\n",
        "Temporal Trends: Over the years, happiness scores have exhibited both upward and downward trends. Notably, Scandinavian countries maintain high and stable happiness levels, while Sub-Saharan Africa shows more fluctuations.\n",
        "\n",
        "COVID-19 Impact: The year 2020 saw a dip in happiness scores across regions, attributed to the global COVID-19 pandemic. However, many regions recovered in subsequent years.\n",
        "\n",
        "North America's Decline: North America experienced a gradual decline in happiness scores over the years, underlining the importance of addressing well-being issues in this region.\n",
        "\n",
        "Conclusion:\n",
        "Understanding regional happiness trends is vital for policymakers and organizations looking to enhance well-being and quality of life. The data provides a valuable reference for targeted interventions and policy measures, especially in regions facing persistently low happiness scores. The global challenge of the COVID-19 pandemic further emphasizes the need for adaptable strategies to maintain happiness even during uncertain times."
      ],
      "metadata": {
        "id": "U_f13jYgqtjR"
      }
    },
    {
      "cell_type": "code",
      "source": [],
      "metadata": {
        "id": "pbXsVLMSYgau"
      },
      "execution_count": null,
      "outputs": []
    },
    {
      "cell_type": "code",
      "source": [],
      "metadata": {
        "id": "Jxih_nTkYrx0"
      },
      "execution_count": null,
      "outputs": []
    },
    {
      "cell_type": "markdown",
      "source": [
        "### Trend 5"
      ],
      "metadata": {
        "id": "NVE0QC7vJOBf"
      }
    },
    {
      "cell_type": "code",
      "source": [
        "import matplotlib.pyplot as plt\n",
        "import seaborn as sns\n",
        "\n",
        "# Example for GDP per capita\n",
        "plt.figure(figsize=(8, 6))\n",
        "sns.histplot(data=merged_data, x='Economy (GDP per Capita)', bins=20, kde=True)\n",
        "plt.title('Distribution of GDP per Capita')\n",
        "plt.xlabel('GDP per Capita')\n",
        "plt.ylabel('Frequency')\n",
        "plt.show()\n"
      ],
      "metadata": {
        "id": "_Vf8qHmYkD9l"
      },
      "execution_count": null,
      "outputs": []
    },
    {
      "cell_type": "markdown",
      "source": [
        "### Title: \"Analyzing GDP per Capita Distribution\"\n",
        "\n",
        "Findings:\n",
        "\n",
        "Unimodal Distribution: The GDP per Capita data exhibits a roughly unimodal distribution.\n",
        "Skewed Right: The distribution is right-skewed, indicating a concentration of countries with lower GDP per Capita.\n",
        "Long Tail: The long right tail suggests some countries have exceptionally high GDP per Capita.\n",
        "Conclusion:\n",
        "\n",
        "Understanding the distribution of GDP per Capita is vital for assessing economic disparities among countries.\n",
        "Policy and economic interventions are essential to address inequalities and improve overall well-being."
      ],
      "metadata": {
        "id": "7V3ltgc0s3mf"
      }
    },
    {
      "cell_type": "code",
      "source": [],
      "metadata": {
        "id": "mpixKabMtfBf"
      },
      "execution_count": null,
      "outputs": []
    },
    {
      "cell_type": "code",
      "source": [],
      "metadata": {
        "id": "w4OKWLeFth1L"
      },
      "execution_count": null,
      "outputs": []
    },
    {
      "cell_type": "markdown",
      "source": [
        "### Trend 6"
      ],
      "metadata": {
        "id": "UgBM-xzxr5Vx"
      }
    },
    {
      "cell_type": "code",
      "source": [
        "# Example of a scatter plot\n",
        "plt.figure(figsize=(8, 6))\n",
        "sns.scatterplot(data=merged_data, x='Economy (GDP per Capita)', y='Happiness Score', alpha=0.5)\n",
        "plt.title('Scatter Plot: GDP per Capita vs. Happiness Score')\n",
        "plt.xlabel('GDP per Capita')\n",
        "plt.ylabel('Happiness Score')\n",
        "plt.show()\n"
      ],
      "metadata": {
        "id": "v4J8HccEIVKR"
      },
      "execution_count": null,
      "outputs": []
    },
    {
      "cell_type": "markdown",
      "source": [
        "### Title: \"GDP per Capita vs. Happiness: Unveiling the Correlation\"\n",
        "\n",
        "Findings:\n",
        "\n",
        "Positive Relationship: A positive correlation between GDP per Capita and Happiness Score is evident.\n",
        "Scattered Data: Data points show exceptions, indicating that happiness isn't solely dependent on economic factors.\n",
        "Economic Significance: Economic well-being plays a vital role in overall happiness.\n",
        "Conclusion:\n",
        "\n",
        "While GDP per Capita matters, a holistic approach is vital to enhance a nation's well-being.\n",
        "Addressing social support, health, and other factors is crucial for improved happiness."
      ],
      "metadata": {
        "id": "K7kgYfBxr8yA"
      }
    },
    {
      "cell_type": "code",
      "source": [],
      "metadata": {
        "id": "InhNGR27teG7"
      },
      "execution_count": null,
      "outputs": []
    },
    {
      "cell_type": "markdown",
      "source": [
        "## Trend 7"
      ],
      "metadata": {
        "id": "sKy6MIPntth5"
      }
    },
    {
      "cell_type": "code",
      "source": [
        "# Calculate the correlation matrix\n",
        "corr_matrix = merged_data.corr()\n",
        "\n",
        "# Create a heatmap of the correlation matrix\n",
        "plt.figure(figsize=(10, 8))\n",
        "sns.heatmap(corr_matrix, annot=True, cmap='coolwarm', linewidths=0.5)\n",
        "plt.title('Correlation Matrix Heatmap')\n",
        "plt.show()\n"
      ],
      "metadata": {
        "id": "Uzdv2hCaIVHi"
      },
      "execution_count": null,
      "outputs": []
    },
    {
      "cell_type": "markdown",
      "source": [
        "##Title: \"Correlation Analysis of Key Happiness Factors\"\n",
        "---\n",
        "Findings:\n",
        "\n",
        "Strong Negative Correlation: The \"Happiness Rank\" and \"Happiness Score\" exhibit a robust negative correlation (-0.989), indicating that as a country's happiness rank decreases (i.e., it ranks higher in happiness), its happiness score increases. This suggests that countries at the top of the happiness rankings tend to have higher happiness scores.\n",
        "\n",
        "Positive Correlations: Several other factors are positively correlated with the \"Happiness Score.\" Notably, \"Economy (GDP per Capita)\" demonstrates a significant positive correlation (0.748). This implies that higher economic prosperity is associated with increased happiness. Similarly, \"Health (Life Expectancy)\" and \"Trust (Government Corruption)\" exhibit positive correlations (0.730 and 0.415, respectively), suggesting that improved health and lower corruption levels contribute to higher happiness. The \"Year\" also shows a positive correlation (0.059), indicating a gradual increase in happiness scores over time.\n",
        "\n",
        "Weaker Correlations: In contrast, \"Trust (Government Corruption)\" and \"Year\" display relatively weaker correlations with happiness, implying that these factors have a less pronounced impact on happiness scores.\n",
        "\n",
        "Negative Correlation: Surprisingly, \"Generosity\" shows a slight negative correlation with the \"Happiness Score\" (-0.050). This means that while generosity is generally associated with happiness, countries with higher generosity levels may have slightly lower happiness scores. This negative correlation, though weak, suggests that the relationship between generosity and happiness is more intricate than expected and may warrant further investigation.\n",
        "\n",
        "Conclusion: The analysis of these correlations reveals valuable insights into the complex interplay of factors influencing happiness scores. Countries with stronger economies, better health conditions, and lower corruption levels tend to report higher levels of happiness. However, the relationship with \"Generosity\" appears nuanced and requires more in-depth exploration. Additionally, there is a modest upward trend in happiness scores over the years, indicating a gradual improvement in global well-being. This analysis serves as a valuable foundation for understanding the dynamics of happiness and can inform policymakers and researchers in their efforts to enhance societal well-being."
      ],
      "metadata": {
        "id": "so672OPmuCbF"
      }
    },
    {
      "cell_type": "code",
      "source": [],
      "metadata": {
        "id": "486LepGzLtPl"
      },
      "execution_count": null,
      "outputs": []
    },
    {
      "cell_type": "code",
      "source": [],
      "metadata": {
        "id": "wQbL2gu9LtMI"
      },
      "execution_count": null,
      "outputs": []
    },
    {
      "cell_type": "code",
      "source": [],
      "metadata": {
        "id": "PdcRCTy8LtJb"
      },
      "execution_count": null,
      "outputs": []
    },
    {
      "cell_type": "markdown",
      "source": [
        "### Trend 7"
      ],
      "metadata": {
        "id": "ShxtjqjgDyA2"
      }
    },
    {
      "cell_type": "code",
      "source": [
        "import pandas as pd\n",
        "from scipy import stats\n",
        "\n",
        "# Calculate Z-Scores for Happiness Score within each region\n",
        "merged_data['Z_Score'] = merged_data.groupby('Region')['Happiness Score'].transform(lambda x: stats.zscore(x, ddof=0))\n",
        "\n",
        "# Define a Z-Score threshold for identifying outliers (e.g., Z-Score > 3 or < -3)\n",
        "z_score_threshold = 3\n",
        "\n",
        "# Identify outlier countries or regions\n",
        "outliers = merged_data[(merged_data['Z_Score'] > z_score_threshold) | (merged_data['Z_Score'] < -z_score_threshold)]\n",
        "\n",
        "# Print the outlier countries or regions\n",
        "print(outliers[['Country', 'Region', 'Happiness Score', 'Year']])\n"
      ],
      "metadata": {
        "id": "Mw6mje22Lxil"
      },
      "execution_count": null,
      "outputs": []
    },
    {
      "cell_type": "code",
      "source": [],
      "metadata": {
        "id": "Kr9p67YGJ2by"
      },
      "execution_count": null,
      "outputs": []
    },
    {
      "cell_type": "code",
      "source": [
        "import matplotlib.pyplot as plt\n",
        "import seaborn as sns\n",
        "\n",
        "# Plot a boxplot to visualize the outlier countries or regions\n",
        "plt.figure(figsize=(12, 6))\n",
        "sns.boxplot(data=outliers, x='Region', y='Happiness Score')\n",
        "plt.title('Outlier Countries or Regions')\n",
        "plt.xlabel('Region')\n",
        "plt.ylabel('Happiness Score')\n",
        "plt.xticks(rotation=90)  # Rotate x-axis labels for better readability\n",
        "plt.show()\n"
      ],
      "metadata": {
        "id": "4FN7bOPULxfH"
      },
      "execution_count": null,
      "outputs": []
    },
    {
      "cell_type": "code",
      "source": [],
      "metadata": {
        "id": "TddcrW6lJ3Ve"
      },
      "execution_count": null,
      "outputs": []
    },
    {
      "cell_type": "code",
      "source": [
        "import matplotlib.pyplot as plt\n",
        "\n",
        "# Filter the data for Haiti\n",
        "haiti_data = merged_data[merged_data['Country'] == 'Haiti']\n",
        "\n",
        "# Calculate regional average happiness scores for Latin America and the Caribbean\n",
        "latin_america_data = merged_data[merged_data['Region'] == 'Latin America and Caribbean']\n",
        "regional_avg_scores = latin_america_data.groupby('Year')['Happiness Score'].mean()\n",
        "\n",
        "# Create a line plot to compare Haiti's scores with regional averages\n",
        "plt.figure(figsize=(10, 6))\n",
        "plt.plot(haiti_data['Year'], haiti_data['Happiness Score'], marker='o', label='Haiti')\n",
        "plt.plot(regional_avg_scores.index, regional_avg_scores.values, linestyle='--', label='Regional Average')\n",
        "plt.title('Haiti vs. Latin America and Caribbean Regional Happiness Scores (2017-2021)')\n",
        "plt.xlabel('Year')\n",
        "plt.ylabel('Happiness Score')\n",
        "plt.legend()\n",
        "plt.grid(True)\n",
        "plt.show()\n"
      ],
      "metadata": {
        "id": "uDA4YrHlLxcE"
      },
      "execution_count": null,
      "outputs": []
    },
    {
      "cell_type": "code",
      "source": [
        "haiti_data"
      ],
      "metadata": {
        "id": "gEAeEwVbJ4Q_"
      },
      "execution_count": null,
      "outputs": []
    },
    {
      "cell_type": "code",
      "source": [
        "import pandas as pd\n",
        "import matplotlib.pyplot as plt\n",
        "import seaborn as sns\n",
        "\n",
        "# Step 1: Filter Haiti Data\n",
        "haiti_data = merged_data[merged_data['Country'] == 'Haiti']\n",
        "\n",
        "# Step 2: Analyze Key Factors\n",
        "# Extract key factors you want to analyze (e.g., GDP per capita, social support, life expectancy, and freedom).\n",
        "factors_to_analyze = ['Happiness Score','Economy (GDP per Capita)', 'Health (Life Expectancy)', 'Trust (Government Corruption)', 'Generosity']\n",
        "\n",
        "# Step 3: Calculate Trends Over Years\n",
        "haiti_data['Year'] = pd.to_datetime(haiti_data['Year'], format='%Y')\n",
        "years = haiti_data['Year'].dt.year\n",
        "\n",
        "# Create subplots to visualize trends in key factors\n",
        "fig, axes = plt.subplots(nrows=len(factors_to_analyze), ncols=1, figsize=(10, 6))\n",
        "\n",
        "for i, factor in enumerate(factors_to_analyze):\n",
        "    sns.lineplot(x=years, y=haiti_data[factor], ax=axes[i])\n",
        "    axes[i].set_title(f'Trend in {factor} for Haiti')\n",
        "    axes[i].set_xlabel('Year')\n",
        "    axes[i].set_ylabel(factor)\n",
        "\n",
        "plt.tight_layout()\n",
        "plt.show()\n",
        "\n",
        "# Step 4: Correlation Analysis\n",
        "# Calculate correlations between key factors and Haiti's happiness score\n",
        "correlation_matrix = haiti_data[factors_to_analyze].corr()\n",
        "\n",
        "# Step 5: Visualization of Correlations\n",
        "# Create a heatmap to visualize correlations\n",
        "plt.figure(figsize=(8, 6))\n",
        "sns.heatmap(correlation_matrix, annot=True, cmap='coolwarm', cbar=False)\n",
        "plt.title('Correlation Heatmap for Haiti')\n",
        "plt.show()\n",
        "\n",
        "# Step 6: Comparative Analysis\n",
        "# Compare Haiti's data with other countries in the Caribbean region that may not be outliers.\n",
        "\n",
        "# Step 7: Contextual Information\n",
        "# Consider external factors and historical context that might explain Haiti's outlier status.\n",
        "\n",
        "# Step 8: Interpretation and Recommendations\n",
        "# Analyze the findings and provide recommendations based on the analysis.\n",
        "\n",
        "# Continue your analysis with additional steps as needed based on your research goals.\n"
      ],
      "metadata": {
        "id": "Ldy3igEdIWbg"
      },
      "execution_count": null,
      "outputs": []
    },
    {
      "cell_type": "code",
      "source": [
        "correlation_matrix"
      ],
      "metadata": {
        "id": "dr8sfak8IWU7"
      },
      "execution_count": null,
      "outputs": []
    },
    {
      "cell_type": "markdown",
      "source": [
        "### Title: \"Correlation Analysis of Key Happiness Factors in Haiti\"\n",
        "---\n",
        "Introduction: Provide a brief introduction explaining the purpose of the analysis and the significance of correlation between happiness factors.\n",
        "\n",
        "Findings:\n",
        "\n",
        "Strong Negative Correlation with Trust: The correlation matrix reveals a strong negative correlation between \"Trust (Government Corruption)\" and \"Happiness Score\" (-0.751). This indicates that as trust in the government decreases, happiness scores tend to decrease significantly.\n",
        "\n",
        "Moderate Positive Correlation with Generosity: \"Generosity\" shows a moderate positive correlation with \"Happiness Score\" (0.446). While not as strong as trust, this suggests that higher generosity is associated with higher happiness scores.\n",
        "\n",
        "Moderate Positive Correlation with Health: \"Health (Life Expectancy)\" also exhibits a moderate positive correlation with \"Happiness Score\" (0.243). This implies that countries with better life expectancy tend to have higher happiness scores.\n",
        "\n",
        "Weak Negative Correlation with GDP per Capita: \"Economy (GDP per Capita)\" has a weak negative correlation with \"Happiness Score\" (-0.472). The negative sign indicates that as GDP per capita increases, happiness scores tend to decrease slightly.\n",
        "\n",
        "Interpretation:\n",
        "The negative correlation with trust highlights the importance of reducing corruption and increasing trust in the government to improve happiness in Haiti. The positive correlation with generosity and health suggests that promoting generosity and healthcare access could positively impact happiness. The correlation with GDP per capita, although weak, suggests that improvements in the economy may require a careful balance with other factors to maintain or increase happiness.\n",
        "\n",
        "Conclusion:\n",
        "This correlation analysis provides insights into the relationships between key factors and happiness in Haiti. It highlights areas for potential intervention and policy development to enhance well-being."
      ],
      "metadata": {
        "id": "Ku7T1UbvLzIx"
      }
    },
    {
      "cell_type": "code",
      "source": [],
      "metadata": {
        "id": "5SPehlrUHxXX"
      },
      "execution_count": null,
      "outputs": []
    },
    {
      "cell_type": "markdown",
      "source": [
        "### Trend 8"
      ],
      "metadata": {
        "id": "K-8TMGmxMjap"
      }
    },
    {
      "cell_type": "code",
      "source": [
        "import pandas as pd\n",
        "\n",
        "# Assuming your data is in a DataFrame called merged_data\n",
        "correlation_matrix = merged_data[['Happiness Score', 'Health (Life Expectancy)', 'Economy (GDP per Capita)']].corr()\n",
        "\n",
        "# Extract the specific correlation coefficients\n",
        "correlation_happiness_health = correlation_matrix.loc['Happiness Score', 'Health (Life Expectancy)']\n",
        "correlation_happiness_social = correlation_matrix.loc['Happiness Score', 'Economy (GDP per Capita)']\n",
        "\n",
        "# Print the correlation coefficients\n",
        "print(f\"Correlation between Happiness Score and Health (Life Expectancy): {correlation_happiness_health}\")\n",
        "print(f\"Correlation between Happiness Score and Social Support: {correlation_happiness_social}\")\n"
      ],
      "metadata": {
        "id": "y4QscTUUMnmH"
      },
      "execution_count": null,
      "outputs": []
    },
    {
      "cell_type": "code",
      "source": [
        "import pandas as pd\n",
        "import seaborn as sns\n",
        "import matplotlib.pyplot as plt\n",
        "\n",
        "# Assuming your data is in a DataFrame called merged_data\n",
        "correlation_matrix = merged_data[['Happiness Score', 'Health (Life Expectancy)', 'Economy (GDP per Capita)']].corr()\n",
        "\n",
        "# Create a heatmap to visualize the correlation coefficients\n",
        "plt.figure(figsize=(8, 6))\n",
        "sns.heatmap(correlation_matrix, annot=True, cmap='coolwarm', linewidths=0.5)\n",
        "plt.title('Correlation Heatmap')\n",
        "plt.show()\n"
      ],
      "metadata": {
        "id": "9IQv1wDbMni0"
      },
      "execution_count": null,
      "outputs": []
    },
    {
      "cell_type": "code",
      "source": [],
      "metadata": {
        "id": "R36j88cqMnfg"
      },
      "execution_count": null,
      "outputs": []
    },
    {
      "cell_type": "markdown",
      "source": [
        "## Trend 9\n"
      ],
      "metadata": {
        "id": "d8zYCqJBNhDH"
      }
    },
    {
      "cell_type": "code",
      "source": [
        "import matplotlib.pyplot as plt\n",
        "import seaborn as sns\n",
        "\n",
        "# Set the figure size\n",
        "plt.figure(figsize=(12, 6))\n",
        "\n",
        "# Create line plots for each key factor\n",
        "factors = ['Happiness Score', 'Economy (GDP per Capita)', 'Health (Life Expectancy)', 'Trust (Government Corruption)', 'Generosity']\n",
        "\n",
        "for factor in factors:\n",
        "    sns.lineplot(data=merged_data, x='Year', y=factor, label=factor)\n",
        "\n",
        "# Set labels and title\n",
        "plt.title('Trends of Key Factors Over the Years (2015-2022)')\n",
        "plt.xlabel('Year')\n",
        "plt.ylabel('Value')\n",
        "\n",
        "# Show the legend\n",
        "plt.legend(title='Key Factors')\n",
        "\n",
        "# Display the chart\n",
        "plt.show()\n"
      ],
      "metadata": {
        "id": "-tvK1glrWcgY"
      },
      "execution_count": null,
      "outputs": []
    },
    {
      "cell_type": "code",
      "source": [],
      "metadata": {
        "id": "58NCtOTaNfga"
      },
      "execution_count": null,
      "outputs": []
    },
    {
      "cell_type": "markdown",
      "source": [
        "### Trend 10"
      ],
      "metadata": {
        "id": "Im6IA6z9P7Lx"
      }
    },
    {
      "cell_type": "code",
      "source": [
        "import pandas as pd\n",
        "\n",
        "# Assuming your dataset is named merged_data\n",
        "# Calculate the change in happiness score from 2015 to 2022\n",
        "merged_data['Happiness Score Change'] = merged_data.groupby('Country')['Happiness Score'].transform('last') - merged_data.groupby('Country')['Happiness Score'].transform('first')"
      ],
      "metadata": {
        "id": "9EvYWPcxRJb7"
      },
      "execution_count": null,
      "outputs": []
    },
    {
      "cell_type": "code",
      "source": [
        "upper_trend = merged_data.sort_values('Happiness Score Change', ascending=False)['Country'].unique()[:3]"
      ],
      "metadata": {
        "id": "2W8MZ0wyXexu"
      },
      "execution_count": null,
      "outputs": []
    },
    {
      "cell_type": "code",
      "source": [
        "lower_trend = merged_data.sort_values('Happiness Score Change', ascending=True)['Country'].unique()[:3]"
      ],
      "metadata": {
        "id": "9zrPknxCXuGt"
      },
      "execution_count": null,
      "outputs": []
    },
    {
      "cell_type": "code",
      "source": [
        "import numpy as np\n",
        "\n",
        "# Assuming you have upper_trend and lower_trend arrays\n",
        "upper_trend = np.array(upper_trend)\n",
        "lower_trend = np.array(lower_trend)\n",
        "\n",
        "# Combine the arrays\n",
        "combined_trend = np.concatenate((upper_trend, lower_trend))\n"
      ],
      "metadata": {
        "id": "niQt3Ex-Xw-C"
      },
      "execution_count": null,
      "outputs": []
    },
    {
      "cell_type": "code",
      "source": [
        "combined_trend"
      ],
      "metadata": {
        "id": "BfSgTlOOZH_6"
      },
      "execution_count": null,
      "outputs": []
    },
    {
      "cell_type": "code",
      "source": [
        "# Identify countries with the largest increase in happiness score\n",
        "# Create case studies for the top 3 countries with the largest increase\n",
        "for country in combined_trend:\n",
        "    country_data = merged_data[merged_data['Country'] == country]\n",
        "\n",
        "    # Output country-specific data\n",
        "    print(f\"Case Study: {country}\")\n",
        "    print(f\"Happiness Score Change: {country_data['Happiness Score Change'].values[0]}\")\n",
        "    print(f\"Happiness Scores (2015-2022): {country_data['Happiness Score'].tolist()}\")\n",
        "\n",
        "    # Perform additional analyses and offer recommendations for each country\n",
        "\n",
        "# You can extend this code to identify countries with significant decreases or other criteria as well.\n"
      ],
      "metadata": {
        "id": "ciJJIAZaP64S"
      },
      "execution_count": null,
      "outputs": []
    },
    {
      "cell_type": "code",
      "source": [
        "import pandas as pd\n",
        "import matplotlib.pyplot as plt\n",
        "\n",
        "\n",
        "# Filter data for the selected countries\n",
        "selected_country_data = merged_data[merged_data['Country'].isin(combined_trend)]\n",
        "\n",
        "# Set the figure size\n",
        "plt.figure(figsize=(12, 6))\n",
        "\n",
        "# Create line plots for each country\n",
        "for country in combined_trend:\n",
        "    country_data = selected_country_data[selected_country_data['Country'] == country]\n",
        "    plt.plot(country_data['Year'], country_data['Happiness Score'], label=country)\n",
        "\n",
        "# Set labels and title\n",
        "plt.title('Happiness Score Trends by Year for Selected Countries')\n",
        "plt.xlabel('Year')\n",
        "plt.ylabel('Happiness Score')\n",
        "\n",
        "# Show a legend\n",
        "plt.legend()\n",
        "\n",
        "# Display the chart\n",
        "plt.show()\n"
      ],
      "metadata": {
        "id": "H6SpnJjpP6vm"
      },
      "execution_count": null,
      "outputs": []
    },
    {
      "cell_type": "markdown",
      "source": [
        "Title: Uncovering Unique Happiness Patterns\n",
        "---\n",
        "Introduction:\n",
        "This research aims to identify and analyze unique happiness patterns among countries, focusing on those with notable positive and negative trends in happiness scores. The study offers insights into the factors contributing to these patterns and their real-world implications.\n",
        "\n",
        "Findings:\n",
        "\n",
        "Case Study: Positive Trends\n",
        "\n",
        "Countries such as Ivory Coast, Romania, and Congo (Brazzaville) exhibited significant positive trends in happiness scores from 2015 to 2022.\n",
        "The happiness scores for these countries increased notably over the years, indicating improvements in well-being.\n",
        "Case Study: Negative Trends\n",
        "\n",
        "Venezuela, Lebanon, and Zimbabwe experienced substantial declines in happiness scores during the same period.\n",
        "These countries saw a notable decrease in happiness scores, which raises concerns about the well-being of their populations.\n",
        "Analysis:\n",
        "\n",
        "Visualizations such as line charts and bar charts were used to showcase the trends in happiness scores for both positive and negative case studies.\n",
        "The findings emphasize the importance of monitoring and addressing factors that influence happiness, as they can have a profound impact on the overall well-being of a nation.\n",
        "Conclusion:\n",
        "Understanding unique happiness patterns is vital for policymakers and organizations aiming to improve the quality of life and well-being in various regions. These case studies highlight the dynamic nature of happiness and the potential for positive change, as well as the need to address challenges leading to declining happiness scores."
      ],
      "metadata": {
        "id": "FjZiN1jPbQiy"
      }
    },
    {
      "cell_type": "code",
      "source": [],
      "metadata": {
        "id": "U9vxln7Kbj-X"
      },
      "execution_count": null,
      "outputs": []
    },
    {
      "cell_type": "code",
      "source": [
        "import seaborn as sns\n",
        "import matplotlib.pyplot as plt\n",
        "\n",
        "# Create a pairplot\n",
        "sns.pairplot(merged_data, diag_kind=\"kde\")\n",
        "plt.show()\n"
      ],
      "metadata": {
        "id": "nQELFJRMgm45"
      },
      "execution_count": null,
      "outputs": []
    },
    {
      "cell_type": "code",
      "source": [
        "import pandas as pd\n",
        "import matplotlib.pyplot as plt\n",
        "\n",
        "# Calculate the mean happiness score for each year\n",
        "yearly_mean_happiness = merged_data.groupby('Year')['Happiness Score'].mean()\n",
        "\n",
        "# Create a colorful line chart to visualize the trend\n",
        "plt.figure(figsize=(8, 6))  # Adjust the figure size for a larger thumbnail\n",
        "plt.plot(yearly_mean_happiness.index, yearly_mean_happiness.values, marker='o', linestyle='-', color='skyblue', linewidth=2)\n",
        "plt.title('Happiness Trends 2015-2022', fontsize=14, color='navy')\n",
        "plt.xlabel('Year', fontsize=12, color='navy')\n",
        "plt.ylabel('Mean Happiness Score', fontsize=12, color='navy')\n",
        "plt.grid(True, linestyle='--', alpha=0.5)\n",
        "\n",
        "# Add a colorful vertical line for COVID-19 impact\n",
        "plt.axvline(x=2020, color='red', linestyle='--', linewidth=1.5, label='COVID-19 Impact (2020)', alpha=0.7)\n",
        "\n",
        "# Adjusted coordinates for the label\n",
        "plt.text(2020.15, max(yearly_mean_happiness) - 0.03, 'COVID-19 Impact (2020)', color='red')\n",
        "\n",
        "# Remove the legend, if not needed\n",
        "plt.legend().set_visible(False)\n",
        "\n",
        "# Save the chart as a larger, colorful, and high-DPI thumbnail image\n",
        "plt.savefig(\"higher_DPI_thumbnail_happiness_trends.png\", bbox_inches='tight', dpi=600)  # Set a higher DPI value\n",
        "\n",
        "# Display the chart for reference\n",
        "plt.show()\n"
      ],
      "metadata": {
        "id": "pXixTxjTgm1Q"
      },
      "execution_count": null,
      "outputs": []
    },
    {
      "cell_type": "code",
      "source": [
        "merged_data.shape"
      ],
      "metadata": {
        "id": "H353LVE4gmyw"
      },
      "execution_count": null,
      "outputs": []
    },
    {
      "cell_type": "code",
      "source": [],
      "metadata": {
        "id": "EqVtSwOfgmwl"
      },
      "execution_count": null,
      "outputs": []
    },
    {
      "cell_type": "code",
      "source": [],
      "metadata": {
        "id": "eCNfbz-Wgmtr"
      },
      "execution_count": null,
      "outputs": []
    },
    {
      "cell_type": "markdown",
      "source": [
        "### Train a model for ML"
      ],
      "metadata": {
        "id": "IMJ_yQ9pNdcs"
      }
    },
    {
      "cell_type": "code",
      "source": [
        "merged_data.info()"
      ],
      "metadata": {
        "id": "bD-zs8zxgmrY"
      },
      "execution_count": null,
      "outputs": []
    },
    {
      "cell_type": "code",
      "source": [],
      "metadata": {
        "id": "K7tXyPilKOM8"
      },
      "execution_count": null,
      "outputs": []
    },
    {
      "cell_type": "code",
      "source": [
        "import pandas as pd\n",
        "from sklearn.model_selection import train_test_split\n",
        "from sklearn.linear_model import LinearRegression\n",
        "from sklearn.metrics import mean_squared_error, r2_score\n",
        "\n",
        "# Load your dataset\n",
        "data = merged_data\n",
        "\n",
        "# Select features (X) and the target variable (y)\n",
        "X = data[['Happiness Score', 'Economy (GDP per Capita)', 'Health (Life Expectancy)', 'Trust (Government Corruption)', 'Generosity']]\n",
        "y = data['Happiness Rank']\n",
        "\n",
        "# Split the data into a training set and a testing set (use data up to 2022 for training)\n",
        "X_train, X_test, y_train, y_test = train_test_split(X, y, test_size=0.2, random_state=42)\n",
        "\n",
        "# Create and train a Linear Regression model\n",
        "model = LinearRegression()\n",
        "model.fit(X_train, y_train)\n",
        "\n",
        "# Make predictions for the year 2023 using the testing set\n",
        "y_pred = model.predict(X_test)\n",
        "\n",
        "# Evaluate the model's performance\n",
        "mse = mean_squared_error(y_test, y_pred)\n",
        "rmse = mse ** 0.5\n",
        "r_squared = r2_score(y_test, y_pred)\n",
        "\n",
        "print(f'Mean Squared Error: {mse}')\n",
        "print(f'Root Mean Squared Error: {rmse}')\n",
        "print(f'R-squared: {r_squared}')\n",
        "\n",
        "# To make predictions for a specific country in 2023, prepare a feature vector for that country and use model.predict() on that vector.\n",
        "# For example, create a DataFrame with the same columns as X and fill in the feature values for the country of interest.\n"
      ],
      "metadata": {
        "id": "G8XqmhpJK_TH"
      },
      "execution_count": null,
      "outputs": []
    },
    {
      "cell_type": "code",
      "source": [
        "country_data_2023 = pd.DataFrame({\n",
        "    'Happiness Score': [4.2],  # Use a list with a single value\n",
        "    'Economy (GDP per Capita)': [1.5],  # Use a list with a single value\n",
        "    'Health (Life Expectancy)': [0.3],  # Use a list with a single value\n",
        "    'Trust (Government Corruption)': [0.05],  # Use a list with a single value\n",
        "    'Generosity': [0.4]  # Use a list with a single value\n",
        "})"
      ],
      "metadata": {
        "id": "2PMQoR51K_P1"
      },
      "execution_count": null,
      "outputs": []
    },
    {
      "cell_type": "code",
      "source": [
        "predicted_rank = model.predict(country_data_2023).astype(int)\n",
        "print(f'Predicted Happiness Rank for the country in 2023: {predicted_rank[0]}')\n"
      ],
      "metadata": {
        "id": "W_UkIZOEK_NQ"
      },
      "execution_count": null,
      "outputs": []
    },
    {
      "cell_type": "code",
      "source": [
        "import pandas as pd\n",
        "\n",
        "# Create a DataFrame with the actual test data\n",
        "test_data = X_test.copy()\n",
        "test_data['Actual Happiness Rank'] = y_test\n",
        "\n",
        "# Create a DataFrame with the predicted test data and round the values to integers\n",
        "predicted_data = X_test.copy()\n",
        "predicted_data['Predicted Happiness Rank'] = y_pred.round(0).astype(int)  # Rounding to the nearest integer\n",
        "\n",
        "# Concatenate the two DataFrames for comparison\n",
        "comparison_data = pd.concat([test_data, predicted_data], axis=1)\n",
        "\n",
        "comparison_data\n"
      ],
      "metadata": {
        "id": "973YzP1hK_Kn"
      },
      "execution_count": null,
      "outputs": []
    },
    {
      "cell_type": "code",
      "source": [],
      "metadata": {
        "id": "UT-mWoBhK_Hz"
      },
      "execution_count": null,
      "outputs": []
    }
  ]
}